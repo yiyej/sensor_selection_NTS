{
 "cells": [
  {
   "cell_type": "markdown",
   "metadata": {},
   "source": [
    "# Get stationary time series "
   ]
  },
  {
   "cell_type": "code",
   "execution_count": 1,
   "metadata": {},
   "outputs": [
    {
     "name": "stderr",
     "output_type": "stream",
     "text": [
      "Using TensorFlow backend.\n"
     ]
    }
   ],
   "source": [
    "import pandas as pd\n",
    "import numpy as np\n",
    "import matplotlib.pyplot as plt\n",
    "from numpy.linalg import multi_dot, norm\n",
    "from random import seed\n",
    "from cnn_graph.lib import models, graph, coarsening"
   ]
  },
  {
   "cell_type": "code",
   "execution_count": 2,
   "metadata": {},
   "outputs": [],
   "source": [
    "# Load data\n",
    "dist_geo = pd.read_csv(\"data/distance_paris.csv\",header=0,index_col=0)\n",
    "X_hour = pd.read_csv(\"data/X_hour_paris.csv\",header=0,index_col=0)\n",
    "T_1, N = X_hour.shape\n",
    "T_0 = int(T_1*0.9)\n",
    "T_tv = int(T_0*0.95)\n",
    "\n",
    "## weekly profile !only use the training set to get the profile!\n",
    "X_train = X_hour.iloc[:T_tv,].copy()\n",
    "index = np.tile(np.arange(1,24*7+1), np.int(X_hour.shape[0]/24/7)+1)[:X_hour.shape[0]] - 1\n",
    "X_train['index'] = index[:T_tv]\n",
    "wk_pf = X_train.groupby('index').mean()\n",
    "X_train = X_train.drop(columns = \"index\")\n",
    "\n",
    "X_hour, wk_pf = [np.float32(x) for x in [X_hour, wk_pf]]\n",
    "X_hour_detrend = np.copy(X_hour) - wk_pf[index,:]\n",
    "\n",
    "## Scale, to make the regularization parameter lambda have the same influence on all var.\n",
    "X_train = X_hour_detrend[:T_tv,]\n",
    "sd = X_train.std(axis = 0)\n",
    "X_hour_detrend_sc = np.multiply(X_hour_detrend, 1/sd)"
   ]
  },
  {
   "cell_type": "code",
   "execution_count": 3,
   "metadata": {},
   "outputs": [
    {
     "name": "stdout",
     "output_type": "stream",
     "text": [
      "27\n"
     ]
    }
   ],
   "source": [
    "# Sampling size is given\n",
    "P = int(0.1*N)\n",
    "print(P)\n",
    "\n",
    "# Time lag\n",
    "H = 0"
   ]
  },
  {
   "cell_type": "markdown",
   "metadata": {},
   "source": [
    "## Graph construction\n",
    "the same as the one used in graph kernel approach"
   ]
  },
  {
   "cell_type": "code",
   "execution_count": 26,
   "metadata": {},
   "outputs": [
    {
     "name": "stdout",
     "output_type": "stream",
     "text": [
      "Layer 0: M_0 = |V| = 274 nodes (0 added),|E| = 3373 edges\n"
     ]
    }
   ],
   "source": [
    "# Build the graph\n",
    "k = 20 # nb of neighbours\n",
    "dist, idx = graph.distance_sklearn_metrics(k = k, d = np.array(dist_geo))\n",
    "A = graph.adjacency(dist, idx, k_self_tuning = 7).astype(np.float32)\n",
    "graphs, perm = coarsening.coarsen(A, levels=0, self_connections=False) # No pooling used\n",
    "L = [graph.laplacian(A, normalized=False) for A in graphs]"
   ]
  },
  {
   "cell_type": "markdown",
   "metadata": {},
   "source": [
    "## Network architecture"
   ]
  },
  {
   "cell_type": "code",
   "execution_count": 83,
   "metadata": {},
   "outputs": [],
   "source": [
    "# GCN Architecture.\n",
    "params = dict()\n",
    "params['F']              = [16]  # Number of graph convolutional filters.\n",
    "params['K']              = [50]  # Polynomial orders.\n",
    "params['p']              = [1]   # Pooling sizes (1 is no pooling).\n",
    "params['M']              = [128, 500, 64, N]  # Output dimensionality of fully connected layers."
   ]
  },
  {
   "cell_type": "code",
   "execution_count": 84,
   "metadata": {},
   "outputs": [],
   "source": [
    "# Training.\n",
    "params['dir_name']       = 'masking_H0_select'\n",
    "params['num_epochs']     = 50 # Max epochs. \n",
    "params['batch_size']     = 50 \n",
    "params['learning_rate']  = 0.005\n",
    "\n",
    "# Time lag.\n",
    "params['H']              = H   "
   ]
  },
  {
   "cell_type": "markdown",
   "metadata": {},
   "source": [
    "# Sensor selection on training set"
   ]
  },
  {
   "cell_type": "code",
   "execution_count": 85,
   "metadata": {},
   "outputs": [],
   "source": [
    "# Input: All values of all sensors\n",
    "X_train_H = np.empty((T_0-H,     N, H+1))\n",
    "for i in range(H+1):\n",
    "    X_train_H[:,:,H-i] = X_hour_detrend_sc[(H-i):(T_0-i),:]"
   ]
  },
  {
   "cell_type": "code",
   "execution_count": null,
   "metadata": {},
   "outputs": [],
   "source": [
    "tol0 = 1e-2\n",
    "granularity = 20\n",
    "Pi = np.linspace(0.05, 0.35, num=granularity, endpoint = True)\n",
    "lasso_path = [] # The sensor selection results and order is given by lasso path\n",
    "for lda in Pi:\n",
    "    # Selection hyperparameter (tuning parameter lambda of the L1 penalty).\n",
    "    params['lambda1']  = lda\n",
    "    model = models.cgcnn(L, **params, selecting_mode = True, selecting_method = 'masking')\n",
    "    _, _, _, _ = model.fit(train_data = X_train_H, train_targets = X_train_H[:,:,H])\n",
    "    w = model.get_var('mask/weights')\n",
    "    w = np.squeeze(w)\n",
    "    lasso_path.append([lda, model.worder, w])\n",
    "    print(sum(w < tol0))"
   ]
  },
  {
   "cell_type": "markdown",
   "metadata": {},
   "source": [
    "## $\\lambda$ and selected sensors"
   ]
  },
  {
   "cell_type": "code",
   "execution_count": 105,
   "metadata": {
    "scrolled": false
   },
   "outputs": [
    {
     "name": "stdout",
     "output_type": "stream",
     "text": [
      "0\n",
      "Lambda:  0.050. The selected sensors: [].\n",
      "2\n",
      "Lambda:  0.066. The selected sensors: [ 73 239].\n",
      "6\n",
      "Lambda:  0.082. The selected sensors: [ 73 205 226 238 239 254].\n",
      "10\n",
      "Lambda:  0.097. The selected sensors: [ 72  73  74 161 205 226 238 239 254 255].\n",
      "13\n",
      "Lambda:  0.113. The selected sensors: [  5  72  73  74 132 155 161 205 226 238 239 254 255].\n",
      "14\n",
      "Lambda:  0.129. The selected sensors: [  5  72  73  74 132 155 161 205 209 226 238 239 254 255].\n",
      "17\n",
      "Lambda:  0.145. The selected sensors: [  5  72  73  74 112 132 155 161 205 209 226 227 238 239 247 254 255].\n",
      "15\n",
      "Lambda:  0.161. The selected sensors: [  5  72  73  74 132 155 161 205 209 226 238 239 247 254 255].\n",
      "17\n",
      "Lambda:  0.176. The selected sensors: [  5  72  73  74 112 132 155 161 205 209 226 227 233 238 239 254 255].\n",
      "18\n",
      "Lambda:  0.192. The selected sensors: [  5  17  72  73  74 112 132 155 161 205 209 224 226 227 238 239 254 255].\n",
      "18\n",
      "Lambda:  0.208. The selected sensors: [  5  17  72  73  74 112 132 155 161 205 209 224 226 227 238 239 254 255].\n",
      "21\n",
      "Lambda:  0.224. The selected sensors: [  5  17  72  73  74 112 117 132 155 157 161 205 209 224 226 227 233 238\n",
      " 239 254 255].\n",
      "19\n",
      "Lambda:  0.239. The selected sensors: [  5  17  72  73  74 112 117 132 155 161 205 209 224 226 227 238 239 254\n",
      " 255].\n",
      "21\n",
      "Lambda:  0.255. The selected sensors: [  5  17  30  72  73  74  84 112 117 132 155 161 205 209 224 226 227 238\n",
      " 239 254 255].\n",
      "26\n",
      "Lambda:  0.271. The selected sensors: [  5  17  30  34  61  72  73  74  84 112 117 132 155 157 161 205 207 209\n",
      " 224 226 227 229 233 238 239 255].\n",
      "22\n",
      "Lambda:  0.287. The selected sensors: [  5  17  30  61  72  73  74  84 112 117 132 155 161 205 209 224 226 227\n",
      " 238 239 255 257].\n",
      "26\n",
      "Lambda:  0.303. The selected sensors: [  5  17  30  34  61  72  73  74  84 112 117 132 155 157 161 199 205 209\n",
      " 224 226 227 238 239 254 255 257].\n",
      "24\n",
      "Lambda:  0.318. The selected sensors: [  5  17  30  31  34  61  72  73  74  84 112 117 132 155 205 209 224 226\n",
      " 227 238 239 254 255 257].\n",
      "22\n",
      "Lambda:  0.334. The selected sensors: [  5  17  30  61  72  73  74  84 112 117 132 155 205 209 224 226 227 229\n",
      " 238 239 255 257].\n",
      "17\n",
      "Lambda:  0.350. The selected sensors: [  5  17  30  61  72  73  84 112 117 132 155 205 209 224 226 239 255].\n"
     ]
    }
   ],
   "source": [
    "I_collection = []\n",
    "for i in range(20):\n",
    "    I_collection.append(*np.where(lasso_path[i][2] < tol0))\n",
    "    print(sum(lasso_path[i][2] < tol0))\n",
    "    print(\"Lambda: {: 1.3f}. The selected sensors: {}.\".format(lasso_path[i][0], I_collection[i]))"
   ]
  },
  {
   "cell_type": "markdown",
   "metadata": {},
   "source": [
    "After a weight becomes a small value, the value will oscillate around $0$, but not come back to large numbers, so we can have an extra order in eaching training, which is the order of weights *reaching $0$* ( $i.e.$ becoming < $1e-2$ ). The results reported above is in this reaching $0$ order."
   ]
  },
  {
   "cell_type": "markdown",
   "metadata": {},
   "source": [
    "# Lasso path\n",
    "\n",
    "We access the $P$ most frequently selected sensors from all the selection results above, and draw the lasso path."
   ]
  },
  {
   "cell_type": "code",
   "execution_count": 118,
   "metadata": {},
   "outputs": [
    {
     "name": "stdout",
     "output_type": "stream",
     "text": [
      "Sensor selection results are (in order of frequency): [73, 239, 205, 226, 238, 72, 255, 74, 5, 132, 155, 209, 254, 161, 112, 227, 17, 224, 117, 30, 84, 61, 257, 233, 157, 34, 247]\n"
     ]
    }
   ],
   "source": [
    "from collections import Counter\n",
    "merge_results = []\n",
    "for i in range(granularity):\n",
    "    merge_results += I_collection[i].tolist()\n",
    "frq = Counter(merge_results)\n",
    "I = [i for i, _ in frq.most_common(P)]\n",
    "print(\"Sensor selection results are (in order of frequency): {}\".format(I))"
   ]
  },
  {
   "cell_type": "code",
   "execution_count": 119,
   "metadata": {},
   "outputs": [],
   "source": [
    "weight_lda = np.zeros((granularity, P))\n",
    "for i in range(granularity):    \n",
    "    weight_lda[i,:] = lasso_path[i][2][I]"
   ]
  },
  {
   "cell_type": "code",
   "execution_count": 120,
   "metadata": {},
   "outputs": [
    {
     "data": {
      "text/plain": [
       "Text(0.5, 1.0, 'Lasso path')"
      ]
     },
     "execution_count": 120,
     "metadata": {},
     "output_type": "execute_result"
    },
    {
     "data": {
      "image/png": "[encoded data removed]",
      "text/plain": [
       "<Figure size 1080x432 with 1 Axes>"
      ]
     },
     "metadata": {
      "needs_background": "light"
     },
     "output_type": "display_data"
    }
   ],
   "source": [
    "plt.rcParams[\"figure.figsize\"] = (15,6)\n",
    "plt.ion()\n",
    "fig = plt.figure()\n",
    "for i in range(15):     \n",
    "    plt.plot(-np.log(Pi), weight_lda[:,i], label = 'Sensor N.{}'.format(I[i]))\n",
    "plt.xlabel('$-\\log(\\lambda)$')\n",
    "plt.ylabel('Mask weight values')\n",
    "plt.legend()\n",
    "plt.title('Lasso path')"
   ]
  },
  {
   "cell_type": "markdown",
   "metadata": {},
   "source": [
    "The lasso path of the first $15$ selected sensors. The lasso path is not smooth because there exists randomness in network training, also we don't use learning rate decay, so when the weights reach $0$, they will occilate around $0$. However, the lasso term in loss function is still useful for sensor selection. In practice, we consider the weights smaller than $1e-2$ as zero weights."
   ]
  },
  {
   "cell_type": "markdown",
   "metadata": {},
   "source": [
    "# Reconstruction performance on test set"
   ]
  },
  {
   "cell_type": "code",
   "execution_count": 122,
   "metadata": {},
   "outputs": [],
   "source": [
    "X_train_H = np.empty((T_tv-H,     N, H+1))\n",
    "X_val_H   = np.empty((T_0-T_tv-H, N, H+1))\n",
    "X_test_H  = np.empty((T_1-T_0-H,  N, H+1))\n",
    "\n",
    "for i in range(H+1):\n",
    "    X_train_H[:,:,H-i] = X_hour_detrend_sc[(H-i):(T_tv-i),:]\n",
    "    X_val_H[:,:,H-i]   = X_hour_detrend_sc[(T_tv+H-i):(T_0-i),:]\n",
    "    X_test_H[:,:,H-i]  = X_hour_detrend_sc[(T_0+H-i):(T_1-i),:]\n",
    "    \n",
    "Y_train = np.copy(X_train_H[:,I,H])\n",
    "X_train_H[:,I,:] = 0.0\n",
    "Y_val = np.copy(X_val_H[:,I,H])\n",
    "X_val_H[:,I,:] = 0.0\n",
    "Y_test = np.copy(X_test_H[:,I,H])\n",
    "X_test_H[:,I,:] = 0.0"
   ]
  },
  {
   "cell_type": "code",
   "execution_count": 123,
   "metadata": {},
   "outputs": [],
   "source": [
    "# Change some parameters for prediction network\n",
    "params['batch_size']     = 1000 \n",
    "params['num_epochs']     = 20\n",
    "params['M'][-1]          = P # Output dimension\n",
    "params['learning_rate']  = 0.001"
   ]
  },
  {
   "cell_type": "code",
   "execution_count": 124,
   "metadata": {},
   "outputs": [
    {
     "name": "stdout",
     "output_type": "stream",
     "text": [
      "NN architecture\n",
      "  input: L_0 = 274\n",
      "  layer 1: cgconv1\n",
      "    representation: L_0 * F_1 / p_1 = 274 * 16 / 1 = 4384\n",
      "    weights: F_0 * F_1 * K_1 = 1 * 16 * 50 = 800\n",
      "    biases: L_1 * F_1 = 274 * 16 = 4384\n",
      "  layer 2: fc1\n",
      "    representation: L_2 = 128\n",
      "    weights: L_1 * L_2 = 4384 * 128 = 561152\n",
      "    biases: L_2 = 128\n",
      "  layer 3: fc2\n",
      "    representation: L_3 = 500\n",
      "    weights: L_2 * L_3 = 128 * 500 = 64000\n",
      "    biases: L_3 = 500\n",
      "  layer 4: fc3\n",
      "    representation: L_4 = 64\n",
      "    weights: L_3 * L_4 = 500 * 64 = 32000\n",
      "    biases: L_4 = 64\n",
      "  layer 5: output\n",
      "    representation: L_5 = 27\n",
      "    weights: L_4 * L_5 = 64 * 27 = 1728\n",
      "    biases: L_5 = 27\n",
      "  Total number of trainable parameters: 665057\n",
      "Adam optimizer is being used.\n"
     ]
    }
   ],
   "source": [
    "model = models.cgcnn(L, **params, selecting_mode = False)"
   ]
  },
  {
   "cell_type": "code",
   "execution_count": 125,
   "metadata": {
    "scrolled": true
   },
   "outputs": [
    {
     "name": "stdout",
     "output_type": "stream",
     "text": [
      "epoch 1 (learning_rate = 1.00e-03):\n",
      "  training_loss = 3.70e+01\n",
      "  validation r2: -0.24, loss: 9.37e+00\n",
      "  time: 5s (wall 3s)\n",
      "epoch 2 (learning_rate = 1.00e-03):\n",
      "  training_loss = 3.15e+01\n",
      "  validation r2: -0.16, loss: 8.40e+00\n",
      "  time: 10s (wall 5s)\n",
      "epoch 3 (learning_rate = 1.00e-03):\n",
      "  training_loss = 2.72e+01\n",
      "  validation r2: -0.23, loss: 7.96e+00\n",
      "  time: 14s (wall 7s)\n",
      "epoch 4 (learning_rate = 1.00e-03):\n",
      "  training_loss = 2.36e+01\n",
      "  validation r2: -0.34, loss: 8.09e+00\n",
      "  time: 19s (wall 9s)\n",
      "epoch 5 (learning_rate = 1.00e-03):\n",
      "  training_loss = 2.10e+01\n",
      "  validation r2: -0.24, loss: 8.12e+00\n",
      "  time: 24s (wall 12s)\n",
      "epoch 6 (learning_rate = 1.00e-03):\n",
      "  training_loss = 1.89e+01\n",
      "  validation r2: -0.25, loss: 8.09e+00\n",
      "  time: 28s (wall 15s)\n",
      " Training stopped for the validation loss has not decreased.\n",
      "validation score: peak = -0.16, mean = -0.24\n",
      "validation loss: min = 7.96, mean = 8.13\n",
      "INFO:tensorflow:Restoring parameters from /Users/yiye/Desktop/velib/tasks/cnn_graph/lib/../checkpoints/Velib_predictor_masking_H0_test/model-18\n",
      "25.03800142111713\n",
      "epoch 1 (learning_rate = 1.00e-03):\n",
      "  training_loss = 3.69e+01\n",
      "  validation r2: -0.24, loss: 8.99e+00\n",
      "  time: 6s (wall 4s)\n",
      "epoch 2 (learning_rate = 1.00e-03):\n",
      "  training_loss = 3.00e+01\n",
      "  validation r2: -0.21, loss: 7.89e+00\n",
      "  time: 10s (wall 6s)\n",
      "epoch 3 (learning_rate = 1.00e-03):\n",
      "  training_loss = 2.52e+01\n",
      "  validation r2: -0.13, loss: 7.64e+00\n",
      "  time: 14s (wall 7s)\n",
      "epoch 4 (learning_rate = 1.00e-03):\n",
      "  training_loss = 2.26e+01\n",
      "  validation r2: -0.14, loss: 7.91e+00\n",
      "  time: 19s (wall 9s)\n",
      "epoch 5 (learning_rate = 1.00e-03):\n",
      "  training_loss = 2.00e+01\n",
      "  validation r2: -0.32, loss: 8.16e+00\n",
      "  time: 23s (wall 11s)\n",
      " Training stopped for the validation loss has not decreased.\n",
      "validation score: peak = -0.13, mean = -0.21\n",
      "validation loss: min = 7.64, mean = 8.12\n",
      "INFO:tensorflow:Restoring parameters from /Users/yiye/Desktop/velib/tasks/cnn_graph/lib/../checkpoints/Velib_predictor_masking_H0_test/model-15\n",
      "24.558290931823898\n",
      "epoch 1 (learning_rate = 1.00e-03):\n",
      "  training_loss = 3.70e+01\n",
      "  validation r2: -0.33, loss: 9.61e+00\n",
      "  time: 5s (wall 2s)\n",
      "epoch 2 (learning_rate = 1.00e-03):\n",
      "  training_loss = 3.12e+01\n",
      "  validation r2: -0.46, loss: 8.75e+00\n",
      "  time: 9s (wall 4s)\n",
      "epoch 3 (learning_rate = 1.00e-03):\n",
      "  training_loss = 2.68e+01\n",
      "  validation r2: -0.20, loss: 7.60e+00\n",
      "  time: 14s (wall 6s)\n",
      "epoch 4 (learning_rate = 1.00e-03):\n",
      "  training_loss = 2.31e+01\n",
      "  validation r2: -0.18, loss: 7.68e+00\n",
      "  time: 18s (wall 8s)\n",
      "epoch 5 (learning_rate = 1.00e-03):\n",
      "  training_loss = 2.02e+01\n",
      "  validation r2: -0.29, loss: 7.83e+00\n",
      "  time: 22s (wall 10s)\n",
      "epoch 6 (learning_rate = 1.00e-03):\n",
      "  training_loss = 1.82e+01\n",
      "  validation r2: -0.26, loss: 7.80e+00\n",
      "  time: 27s (wall 11s)\n",
      " Training stopped for the validation loss has not decreased.\n",
      "validation score: peak = -0.18, mean = -0.28\n",
      "validation loss: min = 7.60, mean = 7.93\n",
      "INFO:tensorflow:Restoring parameters from /Users/yiye/Desktop/velib/tasks/cnn_graph/lib/../checkpoints/Velib_predictor_masking_H0_test/model-18\n",
      "25.090009448347587\n",
      "epoch 1 (learning_rate = 1.00e-03):\n",
      "  training_loss = 3.71e+01\n",
      "  validation r2: -0.36, loss: 9.48e+00\n",
      "  time: 5s (wall 2s)\n",
      "epoch 2 (learning_rate = 1.00e-03):\n",
      "  training_loss = 3.10e+01\n",
      "  validation r2: -0.54, loss: 8.45e+00\n",
      "  time: 9s (wall 4s)\n",
      "epoch 3 (learning_rate = 1.00e-03):\n",
      "  training_loss = 2.67e+01\n",
      "  validation r2: -0.34, loss: 7.86e+00\n",
      "  time: 14s (wall 6s)\n",
      "epoch 4 (learning_rate = 1.00e-03):\n",
      "  training_loss = 2.36e+01\n",
      "  validation r2: -0.17, loss: 7.77e+00\n",
      "  time: 18s (wall 8s)\n",
      "epoch 5 (learning_rate = 1.00e-03):\n",
      "  training_loss = 2.11e+01\n",
      "  validation r2: -0.11, loss: 7.54e+00\n",
      "  time: 22s (wall 9s)\n",
      "epoch 6 (learning_rate = 1.00e-03):\n",
      "  training_loss = 1.93e+01\n",
      "  validation r2: -0.19, loss: 7.80e+00\n",
      "  time: 27s (wall 11s)\n",
      "epoch 7 (learning_rate = 1.00e-03):\n",
      "  training_loss = 1.74e+01\n",
      "  validation r2: -0.25, loss: 8.05e+00\n",
      "  time: 31s (wall 13s)\n",
      " Training stopped for the validation loss has not decreased.\n",
      "validation score: peak = -0.11, mean = -0.21\n",
      "validation loss: min = 7.54, mean = 7.80\n",
      "INFO:tensorflow:Restoring parameters from /Users/yiye/Desktop/velib/tasks/cnn_graph/lib/../checkpoints/Velib_predictor_masking_H0_test/model-21\n",
      "25.61542706494984\n",
      "epoch 1 (learning_rate = 1.00e-03):\n",
      "  training_loss = 3.74e+01\n",
      "  validation r2: -0.28, loss: 9.53e+00\n",
      "  time: 5s (wall 2s)\n",
      "epoch 2 (learning_rate = 1.00e-03):\n",
      "  training_loss = 3.11e+01\n",
      "  validation r2: -0.27, loss: 8.35e+00\n",
      "  time: 9s (wall 4s)\n",
      "epoch 3 (learning_rate = 1.00e-03):\n",
      "  training_loss = 2.68e+01\n",
      "  validation r2: -0.28, loss: 7.85e+00\n",
      "  time: 14s (wall 6s)\n",
      "epoch 4 (learning_rate = 1.00e-03):\n",
      "  training_loss = 2.31e+01\n",
      "  validation r2: -0.21, loss: 7.89e+00\n",
      "  time: 18s (wall 8s)\n",
      "epoch 5 (learning_rate = 1.00e-03):\n",
      "  training_loss = 2.11e+01\n",
      "  validation r2: -0.19, loss: 7.96e+00\n",
      "  time: 23s (wall 10s)\n",
      "epoch 6 (learning_rate = 1.00e-03):\n",
      "  training_loss = 1.86e+01\n",
      "  validation r2: -0.21, loss: 7.82e+00\n",
      "  time: 27s (wall 12s)\n",
      " Training stopped for the validation loss has not decreased.\n",
      "validation score: peak = -0.19, mean = -0.23\n",
      "validation loss: min = 7.82, mean = 7.97\n",
      "INFO:tensorflow:Restoring parameters from /Users/yiye/Desktop/velib/tasks/cnn_graph/lib/../checkpoints/Velib_predictor_masking_H0_test/model-18\n",
      "24.944508129391014\n",
      "epoch 1 (learning_rate = 1.00e-03):\n",
      "  training_loss = 3.76e+01\n",
      "  validation r2: -0.27, loss: 9.73e+00\n",
      "  time: 5s (wall 3s)\n",
      "epoch 2 (learning_rate = 1.00e-03):\n",
      "  training_loss = 3.18e+01\n",
      "  validation r2: -0.32, loss: 8.72e+00\n",
      "  time: 10s (wall 5s)\n",
      "epoch 3 (learning_rate = 1.00e-03):\n",
      "  training_loss = 2.65e+01\n",
      "  validation r2: -0.26, loss: 8.22e+00\n",
      "  time: 14s (wall 6s)\n",
      "epoch 4 (learning_rate = 1.00e-03):\n",
      "  training_loss = 2.32e+01\n",
      "  validation r2: -0.20, loss: 7.73e+00\n",
      "  time: 19s (wall 8s)\n",
      "epoch 5 (learning_rate = 1.00e-03):\n",
      "  training_loss = 2.05e+01\n",
      "  validation r2: -0.22, loss: 7.47e+00\n",
      "  time: 23s (wall 10s)\n",
      "epoch 6 (learning_rate = 1.00e-03):\n",
      "  training_loss = 1.85e+01\n",
      "  validation r2: -0.25, loss: 8.03e+00\n",
      "  time: 27s (wall 12s)\n",
      "epoch 7 (learning_rate = 1.00e-03):\n",
      "  training_loss = 1.68e+01\n",
      "  validation r2: -0.19, loss: 7.77e+00\n",
      "  time: 32s (wall 14s)\n",
      " Training stopped for the validation loss has not decreased.\n",
      "validation score: peak = -0.19, mean = -0.22\n",
      "validation loss: min = 7.47, mean = 7.84\n",
      "INFO:tensorflow:Restoring parameters from /Users/yiye/Desktop/velib/tasks/cnn_graph/lib/../checkpoints/Velib_predictor_masking_H0_test/model-21\n",
      "24.752159303210682\n",
      "epoch 1 (learning_rate = 1.00e-03):\n",
      "  training_loss = 3.71e+01\n",
      "  validation r2: -0.29, loss: 9.46e+00\n",
      "  time: 5s (wall 2s)\n",
      "epoch 2 (learning_rate = 1.00e-03):\n",
      "  training_loss = 3.06e+01\n",
      "  validation r2: -0.27, loss: 8.55e+00\n",
      "  time: 10s (wall 4s)\n",
      "epoch 3 (learning_rate = 1.00e-03):\n",
      "  training_loss = 2.60e+01\n",
      "  validation r2: -0.23, loss: 7.83e+00\n",
      "  time: 14s (wall 6s)\n",
      "epoch 4 (learning_rate = 1.00e-03):\n",
      "  training_loss = 2.27e+01\n",
      "  validation r2: -0.18, loss: 7.76e+00\n",
      "  time: 18s (wall 8s)\n",
      "epoch 5 (learning_rate = 1.00e-03):\n",
      "  training_loss = 2.00e+01\n",
      "  validation r2: -0.20, loss: 7.83e+00\n",
      "  time: 23s (wall 10s)\n",
      "epoch 6 (learning_rate = 1.00e-03):\n",
      "  training_loss = 1.82e+01\n",
      "  validation r2: -0.19, loss: 7.85e+00\n",
      "  time: 27s (wall 11s)\n",
      " Training stopped for the validation loss has not decreased.\n",
      "validation score: peak = -0.18, mean = -0.22\n",
      "validation loss: min = 7.76, mean = 7.96\n",
      "INFO:tensorflow:Restoring parameters from /Users/yiye/Desktop/velib/tasks/cnn_graph/lib/../checkpoints/Velib_predictor_masking_H0_test/model-18\n",
      "24.930233759367788\n",
      "epoch 1 (learning_rate = 1.00e-03):\n",
      "  training_loss = 3.73e+01\n",
      "  validation r2: -0.29, loss: 9.35e+00\n",
      "  time: 5s (wall 2s)\n",
      "epoch 2 (learning_rate = 1.00e-03):\n",
      "  training_loss = 3.10e+01\n",
      "  validation r2: -0.34, loss: 8.15e+00\n",
      "  time: 9s (wall 4s)\n",
      "epoch 3 (learning_rate = 1.00e-03):\n",
      "  training_loss = 2.64e+01\n",
      "  validation r2: -0.26, loss: 7.79e+00\n",
      "  time: 14s (wall 6s)\n",
      "epoch 4 (learning_rate = 1.00e-03):\n",
      "  training_loss = 2.31e+01\n",
      "  validation r2: -0.22, loss: 7.85e+00\n",
      "  time: 18s (wall 7s)\n",
      "epoch 5 (learning_rate = 1.00e-03):\n",
      "  training_loss = 2.07e+01\n",
      "  validation r2: -0.28, loss: 7.92e+00\n",
      "  time: 23s (wall 9s)\n",
      "epoch 6 (learning_rate = 1.00e-03):\n",
      "  training_loss = 1.86e+01\n",
      "  validation r2: -0.23, loss: 7.83e+00\n",
      "  time: 27s (wall 11s)\n",
      " Training stopped for the validation loss has not decreased.\n",
      "validation score: peak = -0.22, mean = -0.26\n",
      "validation loss: min = 7.79, mean = 7.91\n",
      "INFO:tensorflow:Restoring parameters from /Users/yiye/Desktop/velib/tasks/cnn_graph/lib/../checkpoints/Velib_predictor_masking_H0_test/model-18\n"
     ]
    },
    {
     "name": "stdout",
     "output_type": "stream",
     "text": [
      "24.717470060576364\n",
      "epoch 1 (learning_rate = 1.00e-03):\n",
      "  training_loss = 3.76e+01\n",
      "  validation r2: -0.28, loss: 9.49e+00\n",
      "  time: 5s (wall 2s)\n",
      "epoch 2 (learning_rate = 1.00e-03):\n",
      "  training_loss = 3.16e+01\n",
      "  validation r2: -0.28, loss: 8.21e+00\n",
      "  time: 10s (wall 4s)\n",
      "epoch 3 (learning_rate = 1.00e-03):\n",
      "  training_loss = 2.65e+01\n",
      "  validation r2: -0.16, loss: 7.70e+00\n",
      "  time: 14s (wall 6s)\n",
      "epoch 4 (learning_rate = 1.00e-03):\n",
      "  training_loss = 2.32e+01\n",
      "  validation r2: -0.17, loss: 7.90e+00\n",
      "  time: 18s (wall 7s)\n",
      "epoch 5 (learning_rate = 1.00e-03):\n",
      "  training_loss = 2.08e+01\n",
      "  validation r2: -0.24, loss: 7.99e+00\n",
      "  time: 23s (wall 9s)\n",
      "epoch 6 (learning_rate = 1.00e-03):\n",
      "  training_loss = 1.87e+01\n",
      "  validation r2: -0.14, loss: 7.69e+00\n",
      "  time: 27s (wall 11s)\n",
      " Training stopped for the validation loss has not decreased.\n",
      "validation score: peak = -0.14, mean = -0.20\n",
      "validation loss: min = 7.69, mean = 7.90\n",
      "INFO:tensorflow:Restoring parameters from /Users/yiye/Desktop/velib/tasks/cnn_graph/lib/../checkpoints/Velib_predictor_masking_H0_test/model-18\n",
      "25.019948609391612\n",
      "epoch 1 (learning_rate = 1.00e-03):\n",
      "  training_loss = 3.72e+01\n",
      "  validation r2: -0.23, loss: 9.35e+00\n",
      "  time: 5s (wall 2s)\n",
      "epoch 2 (learning_rate = 1.00e-03):\n",
      "  training_loss = 3.14e+01\n",
      "  validation r2: -0.36, loss: 8.47e+00\n",
      "  time: 10s (wall 4s)\n",
      "epoch 3 (learning_rate = 1.00e-03):\n",
      "  training_loss = 2.72e+01\n",
      "  validation r2: -0.29, loss: 8.29e+00\n",
      "  time: 14s (wall 6s)\n",
      "epoch 4 (learning_rate = 1.00e-03):\n",
      "  training_loss = 2.39e+01\n",
      "  validation r2: -0.25, loss: 8.20e+00\n",
      "  time: 18s (wall 7s)\n",
      "epoch 5 (learning_rate = 1.00e-03):\n",
      "  training_loss = 2.16e+01\n",
      "  validation r2: -0.30, loss: 8.10e+00\n",
      "  time: 23s (wall 9s)\n",
      "epoch 6 (learning_rate = 1.00e-03):\n",
      "  training_loss = 1.98e+01\n",
      "  validation r2: -0.29, loss: 8.36e+00\n",
      "  time: 27s (wall 11s)\n",
      "epoch 7 (learning_rate = 1.00e-03):\n",
      "  training_loss = 1.79e+01\n",
      "  validation r2: -0.21, loss: 8.02e+00\n",
      "  time: 31s (wall 13s)\n",
      " Training stopped for the validation loss has not decreased.\n",
      "validation score: peak = -0.21, mean = -0.27\n",
      "validation loss: min = 8.02, mean = 8.19\n",
      "INFO:tensorflow:Restoring parameters from /Users/yiye/Desktop/velib/tasks/cnn_graph/lib/../checkpoints/Velib_predictor_masking_H0_test/model-21\n",
      "24.849105718060862\n"
     ]
    }
   ],
   "source": [
    "err_mse0 = np.zeros(10)\n",
    "for x in range(10):\n",
    "    _, _, _, _ = model.fit(train_data = X_train_H, train_targets = Y_train, val_data = X_val_H, val_targets = Y_val)\n",
    "    _,Y_pred,_,_ = model.evaluate(X_test_H, Y_test)\n",
    "    # The reconstruction error on test set\n",
    "    err_mse0[x] = norm(Y_test - Y_pred)**2/Y_pred.shape[0]\n",
    "    print(err_mse0[x])"
   ]
  },
  {
   "cell_type": "code",
   "execution_count": 126,
   "metadata": {},
   "outputs": [
    {
     "data": {
      "text/plain": [
       "24.951515444623677"
      ]
     },
     "execution_count": 126,
     "metadata": {},
     "output_type": "execute_result"
    }
   ],
   "source": [
    "err_mse0.mean()"
   ]
  }
 ],
 "metadata": {
  "kernelspec": {
   "display_name": "Python 3",
   "language": "python",
   "name": "python3"
  },
  "language_info": {
   "codemirror_mode": {
    "name": "ipython",
    "version": 3
   },
   "file_extension": ".py",
   "mimetype": "text/x-python",
   "name": "python",
   "nbconvert_exporter": "python",
   "pygments_lexer": "ipython3",
   "version": "3.6.8"
  }
 },
 "nbformat": 4,
 "nbformat_minor": 2
}
