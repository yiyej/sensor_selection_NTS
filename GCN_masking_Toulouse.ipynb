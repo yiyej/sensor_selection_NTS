{
 "cells": [
  {
   "cell_type": "markdown",
   "metadata": {},
   "source": [
    "# Get stationary time series "
   ]
  },
  {
   "cell_type": "code",
   "execution_count": 1,
   "metadata": {},
   "outputs": [
    {
     "name": "stderr",
     "output_type": "stream",
     "text": [
      "Using TensorFlow backend.\n"
     ]
    }
   ],
   "source": [
    "import pandas as pd\n",
    "import numpy as np\n",
    "import matplotlib.pyplot as plt\n",
    "from numpy.linalg import multi_dot, norm\n",
    "from random import seed\n",
    "from cnn_graph.lib import models, graph, coarsening"
   ]
  },
  {
   "cell_type": "code",
   "execution_count": 2,
   "metadata": {},
   "outputs": [],
   "source": [
    "# Load data\n",
    "dist_geo = pd.read_csv(\"data/distance_toulouse.csv\",header=0,index_col=0)\n",
    "X_hour = pd.read_csv(\"data/X_hour_toulouse.csv\",header=0,index_col=0)\n",
    "T_1, N = X_hour.shape\n",
    "T_0 = int(T_1*0.85)\n",
    "T_tv = int(T_0*0.9)\n",
    "\n",
    "## weekly profile !only use the training set to get the profile!\n",
    "X_train = X_hour.iloc[:T_tv,].copy()\n",
    "index = np.tile(np.arange(1,24*7+1), np.int(X_hour.shape[0]/24/7)+1)[:X_hour.shape[0]] - 1\n",
    "X_train['index'] = index[:T_tv]\n",
    "wk_pf = X_train.groupby('index').mean()\n",
    "X_train = X_train.drop(columns = \"index\")\n",
    "\n",
    "X_hour, wk_pf = [np.float32(x) for x in [X_hour, wk_pf]]\n",
    "X_hour_detrend = np.copy(X_hour) - wk_pf[index,:]\n",
    "\n",
    "## Scale, to make the regularization parameter lambda have the same influence on all var.\n",
    "X_train = X_hour_detrend[:T_tv,]\n",
    "sd = X_train.std(axis = 0)\n",
    "X_hour_detrend_sc = np.multiply(X_hour_detrend, 1/sd)"
   ]
  },
  {
   "cell_type": "code",
   "execution_count": 3,
   "metadata": {},
   "outputs": [
    {
     "name": "stdout",
     "output_type": "stream",
     "text": [
      "18\n"
     ]
    }
   ],
   "source": [
    "# Sampling size is given\n",
    "P = int(0.1*N)\n",
    "print(P)\n",
    "\n",
    "# Time lag\n",
    "H = 0"
   ]
  },
  {
   "cell_type": "markdown",
   "metadata": {},
   "source": [
    "## Graph construction\n",
    "the same as the one used in graph kernel approach"
   ]
  },
  {
   "cell_type": "code",
   "execution_count": 4,
   "metadata": {},
   "outputs": [
    {
     "name": "stdout",
     "output_type": "stream",
     "text": [
      "Layer 0: M_0 = |V| = 185 nodes (0 added),|E| = 2318 edges\n"
     ]
    }
   ],
   "source": [
    "# Build the graph\n",
    "k = 20 # nb of neighbours\n",
    "dist, idx = graph.distance_sklearn_metrics(k = k, d = np.array(dist_geo))\n",
    "A = graph.adjacency(dist, idx, k_self_tuning = 7).astype(np.float32)\n",
    "graphs, perm = coarsening.coarsen(A, levels=0, self_connections=False) # No pooling used\n",
    "L = [graph.laplacian(A, normalized=False) for A in graphs]"
   ]
  },
  {
   "cell_type": "markdown",
   "metadata": {},
   "source": [
    "## Network architecture"
   ]
  },
  {
   "cell_type": "code",
   "execution_count": 5,
   "metadata": {},
   "outputs": [],
   "source": [
    "# GCN Architecture.\n",
    "params = dict()\n",
    "params['F']              = [16]  # Number of graph convolutional filters.\n",
    "params['K']              = [50]  # Polynomial orders.\n",
    "params['p']              = [1]   # Pooling sizes (1 is no pooling).\n",
    "params['M']              = [128, 500, 64, N]  # Output dimensionality of fully connected layers."
   ]
  },
  {
   "cell_type": "code",
   "execution_count": 6,
   "metadata": {},
   "outputs": [],
   "source": [
    "# Training.\n",
    "params['dir_name']       = 'masking_H0_select'\n",
    "params['num_epochs']     = 50  # Max epochs. \n",
    "params['batch_size']     = 50 \n",
    "params['learning_rate']  = 0.005\n",
    "\n",
    "# Time lag.\n",
    "params['H']              = H     "
   ]
  },
  {
   "cell_type": "markdown",
   "metadata": {},
   "source": [
    "# Sensor selection on training set"
   ]
  },
  {
   "cell_type": "code",
   "execution_count": 7,
   "metadata": {},
   "outputs": [],
   "source": [
    "# Input: All values of all sensors\n",
    "X_train_H = np.empty((T_0-H,     N, H+1))\n",
    "for i in range(H+1):\n",
    "    X_train_H[:,:,H-i] = X_hour_detrend_sc[(H-i):(T_0-i),:]"
   ]
  },
  {
   "cell_type": "code",
   "execution_count": null,
   "metadata": {},
   "outputs": [],
   "source": [
    "tol0 = 1e-2\n",
    "granularity = 20\n",
    "Pi = np.linspace(0.02, 0.2, num=granularity, endpoint = True)\n",
    "lasso_path = [] # The sensor selection results and order is given by lasso path\n",
    "for lda in Pi:\n",
    "    # Selection hyperparameter (tuning parameter lambda of the L1 penalty).\n",
    "    params['lambda1']  = lda\n",
    "    model = models.cgcnn(L, **params, selecting_mode = True, selecting_method = 'masking')\n",
    "    _, _, _, _ = model.fit(train_data = X_train_H, train_targets = X_train_H[:,:,H])\n",
    "    w = model.get_var('mask/weights')\n",
    "    w = np.squeeze(w)\n",
    "    lasso_path.append([lda, model.worder, w])\n",
    "    print(sum(w < tol0))"
   ]
  },
  {
   "cell_type": "markdown",
   "metadata": {},
   "source": [
    "## $\\lambda$ and selected sensors"
   ]
  },
  {
   "cell_type": "code",
   "execution_count": 14,
   "metadata": {
    "scrolled": true
   },
   "outputs": [
    {
     "name": "stdout",
     "output_type": "stream",
     "text": [
      "0\n",
      "Lambda:  0.020. The selected sensors: [].\n",
      "1\n",
      "Lambda:  0.029. The selected sensors: [171].\n",
      "2\n",
      "Lambda:  0.039. The selected sensors: [170 171].\n",
      "5\n",
      "Lambda:  0.048. The selected sensors: [163 168 170 171 177].\n",
      "5\n",
      "Lambda:  0.058. The selected sensors: [163 168 170 171 177].\n",
      "6\n",
      "Lambda:  0.067. The selected sensors: [163 167 168 170 171 177].\n",
      "10\n",
      "Lambda:  0.077. The selected sensors: [137 163 164 165 167 168 170 171 177 180].\n",
      "9\n",
      "Lambda:  0.086. The selected sensors: [137 163 165 167 168 170 171 177 180].\n",
      "13\n",
      "Lambda:  0.096. The selected sensors: [127 128 162 163 164 165 167 168 170 171 177 180 181].\n",
      "17\n",
      "Lambda:  0.105. The selected sensors: [ 99 100 127 128 137 159 162 163 164 165 167 168 170 171 177 180 181].\n",
      "17\n",
      "Lambda:  0.115. The selected sensors: [ 99 104 127 128 135 137 162 163 164 165 167 168 170 171 177 180 181].\n",
      "19\n",
      "Lambda:  0.124. The selected sensors: [ 97  99 100 127 128 135 137 159 162 163 164 165 167 168 170 171 177 180\n",
      " 181].\n",
      "19\n",
      "Lambda:  0.134. The selected sensors: [ 99 100 103 104 127 128 137 159 162 163 164 165 167 168 170 171 177 180\n",
      " 181].\n",
      "17\n",
      "Lambda:  0.143. The selected sensors: [ 99 100 104 127 128 137 162 163 164 165 167 168 170 171 177 180 181].\n",
      "19\n",
      "Lambda:  0.153. The selected sensors: [ 99 100 104 127 128 137 153 159 162 163 164 165 167 168 170 171 177 180\n",
      " 181].\n",
      "19\n",
      "Lambda:  0.162. The selected sensors: [ 97  99 100 104 125 127 128 137 162 163 164 165 167 168 170 171 177 180\n",
      " 181].\n",
      "18\n",
      "Lambda:  0.172. The selected sensors: [ 99 100 104 127 128 137 159 162 163 164 165 167 168 170 171 177 180 181].\n",
      "19\n",
      "Lambda:  0.181. The selected sensors: [ 99 100 104 125 127 128 137 148 162 163 164 165 167 168 170 171 177 180\n",
      " 181].\n",
      "22\n",
      "Lambda:  0.191. The selected sensors: [ 97  99 100 104 119 127 128 135 136 137 159 162 163 164 165 167 168 170\n",
      " 171 177 180 181].\n",
      "20\n",
      "Lambda:  0.200. The selected sensors: [ 99 100 104 127 128 135 137 159 162 163 164 165 167 168 170 171 174 177\n",
      " 180 181].\n"
     ]
    }
   ],
   "source": [
    "I_collection = []\n",
    "for i in range(len(lasso_path)):\n",
    "    I_collection.append(*np.where(lasso_path[i][2] < tol0))\n",
    "    print(sum(lasso_path[i][2] < tol0))\n",
    "    print(\"Lambda: {: 1.3f}. The selected sensors: {}.\".format(lasso_path[i][0], I_collection[i]))"
   ]
  },
  {
   "cell_type": "markdown",
   "metadata": {},
   "source": [
    "# Lasso path\n",
    "\n",
    "We access the $P$ most frequently selected sensors from all the selection results above, and draw the lasso path."
   ]
  },
  {
   "cell_type": "code",
   "execution_count": 15,
   "metadata": {},
   "outputs": [
    {
     "name": "stdout",
     "output_type": "stream",
     "text": [
      "Sensor selection results are (in order of frequency): [171, 170, 163, 168, 177, 167, 165, 180, 137, 164, 127, 128, 162, 181, 99, 100, 104, 159]\n"
     ]
    }
   ],
   "source": [
    "from collections import Counter\n",
    "merge_results = []\n",
    "for i in range(len(lasso_path)):\n",
    "    merge_results += I_collection[i].tolist()\n",
    "frq = Counter(merge_results)\n",
    "I = [i for i, _ in frq.most_common(P)]\n",
    "print(\"Sensor selection results are (in order of frequency): {}\".format(I))"
   ]
  },
  {
   "cell_type": "code",
   "execution_count": 17,
   "metadata": {},
   "outputs": [],
   "source": [
    "weight_lda = np.zeros((len(lasso_path), P))\n",
    "for i in range(len(lasso_path)):    \n",
    "    weight_lda[i,:] = lasso_path[i][2][I]"
   ]
  },
  {
   "cell_type": "code",
   "execution_count": 19,
   "metadata": {},
   "outputs": [
    {
     "data": {
      "text/plain": [
       "Text(0.5, 1.0, 'Lasso path')"
      ]
     },
     "execution_count": 19,
     "metadata": {},
     "output_type": "execute_result"
    },
    {
     "data": {
      "image/png": "[encoded data removed]",
      "text/plain": [
       "<Figure size 1080x432 with 1 Axes>"
      ]
     },
     "metadata": {
      "needs_background": "light"
     },
     "output_type": "display_data"
    }
   ],
   "source": [
    "plt.rcParams[\"figure.figsize\"] = (15,6)\n",
    "plt.ion()\n",
    "fig = plt.figure()\n",
    "for i in range(10):     \n",
    "    plt.plot(-np.log(Pi), weight_lda[:,i], label = 'Sensor N.{}'.format(I[i]))\n",
    "plt.xlabel('$-\\log(\\lambda)$')\n",
    "plt.ylabel('Mask weight values')\n",
    "plt.legend()\n",
    "plt.title('Lasso path')"
   ]
  },
  {
   "cell_type": "markdown",
   "metadata": {},
   "source": [
    "The lasso path of the first $10$ selected sensors. The lasso path is not smooth because there exists randomness in network training, also we don't use learning rate decay, so when the weights reach $0$, they will occilate around $0$. However, the lasso term in loss function is still useful for sensor selection. In practice, we consider the weights smaller than $1e-2$ as zero weights."
   ]
  },
  {
   "cell_type": "markdown",
   "metadata": {},
   "source": [
    "# Reconstruction performance on test set"
   ]
  },
  {
   "cell_type": "code",
   "execution_count": 20,
   "metadata": {},
   "outputs": [],
   "source": [
    "X_train_H = np.empty((T_tv-H,     N, H+1))\n",
    "X_val_H   = np.empty((T_0-T_tv-H, N, H+1))\n",
    "X_test_H  = np.empty((T_1-T_0-H,  N, H+1))\n",
    "\n",
    "for i in range(H+1):\n",
    "    X_train_H[:,:,H-i] = X_hour_detrend_sc[(H-i):(T_tv-i),:]\n",
    "    X_val_H[:,:,H-i]   = X_hour_detrend_sc[(T_tv+H-i):(T_0-i),:]\n",
    "    X_test_H[:,:,H-i]  = X_hour_detrend_sc[(T_0+H-i):(T_1-i),:]\n",
    "    \n",
    "Y_train = np.copy(X_train_H[:,I,H])\n",
    "X_train_H[:,I,:] = 0.0\n",
    "Y_val = np.copy(X_val_H[:,I,H])\n",
    "X_val_H[:,I,:] = 0.0\n",
    "Y_test = np.copy(X_test_H[:,I,H])\n",
    "X_test_H[:,I,:] = 0.0"
   ]
  },
  {
   "cell_type": "code",
   "execution_count": 21,
   "metadata": {},
   "outputs": [],
   "source": [
    "# Change some parameters for prediction network\n",
    "params['batch_size']     = 2000\n",
    "params['num_epochs']     = 50\n",
    "params['M'][-1]          = P # Output dimension\n",
    "params['learning_rate']  = 0.001"
   ]
  },
  {
   "cell_type": "code",
   "execution_count": 22,
   "metadata": {},
   "outputs": [
    {
     "name": "stdout",
     "output_type": "stream",
     "text": [
      "NN architecture\n",
      "  input: L_0 = 185\n",
      "  layer 1: cgconv1\n",
      "    representation: L_0 * F_1 / p_1 = 185 * 16 / 1 = 2960\n",
      "    weights: F_0 * F_1 * K_1 = 1 * 16 * 50 = 800\n",
      "    biases: L_1 * F_1 = 185 * 16 = 2960\n",
      "  layer 2: fc1\n",
      "    representation: L_2 = 128\n",
      "    weights: L_1 * L_2 = 2960 * 128 = 378880\n",
      "    biases: L_2 = 128\n",
      "  layer 3: fc2\n",
      "    representation: L_3 = 500\n",
      "    weights: L_2 * L_3 = 128 * 500 = 64000\n",
      "    biases: L_3 = 500\n",
      "  layer 4: fc3\n",
      "    representation: L_4 = 64\n",
      "    weights: L_3 * L_4 = 500 * 64 = 32000\n",
      "    biases: L_4 = 64\n",
      "  layer 5: output\n",
      "    representation: L_5 = 18\n",
      "    weights: L_4 * L_5 = 64 * 18 = 1152\n",
      "    biases: L_5 = 18\n",
      "  Total number of trainable parameters: 480687\n",
      "Adam optimizer is being used.\n"
     ]
    }
   ],
   "source": [
    "model = models.cgcnn(L, **params, selecting_mode = False)"
   ]
  },
  {
   "cell_type": "code",
   "execution_count": 23,
   "metadata": {
    "scrolled": true
   },
   "outputs": [
    {
     "name": "stdout",
     "output_type": "stream",
     "text": [
      "epoch 1 (learning_rate = 1.00e-03):\n",
      "  training_loss = 8.78e+00\n",
      "  validation r2: -0.63, loss: 7.77e+00\n",
      "  time: 3s (wall 2s)\n",
      "epoch 2 (learning_rate = 1.00e-03):\n",
      "  training_loss = 8.62e+00\n",
      "  validation r2: -0.62, loss: 7.69e+00\n",
      "  time: 6s (wall 4s)\n",
      "epoch 3 (learning_rate = 1.00e-03):\n",
      "  training_loss = 8.33e+00\n",
      "  validation r2: -0.62, loss: 7.63e+00\n",
      "  time: 8s (wall 5s)\n",
      "epoch 4 (learning_rate = 1.00e-03):\n",
      "  training_loss = 8.03e+00\n",
      "  validation r2: -0.63, loss: 7.59e+00\n",
      "  time: 11s (wall 7s)\n",
      "epoch 5 (learning_rate = 1.00e-03):\n",
      "  training_loss = 7.63e+00\n",
      "  validation r2: -0.66, loss: 7.57e+00\n",
      "  time: 13s (wall 8s)\n",
      "epoch 6 (learning_rate = 1.00e-03):\n",
      "  training_loss = 7.11e+00\n",
      "  validation r2: -0.70, loss: 7.61e+00\n",
      "  time: 15s (wall 10s)\n",
      "epoch 7 (learning_rate = 1.00e-03):\n",
      "  training_loss = 6.57e+00\n",
      "  validation r2: -0.78, loss: 7.72e+00\n",
      "  time: 18s (wall 11s)\n",
      " Training stopped for the validation loss has not decreased.\n",
      "validation score: peak = -0.62, mean = -0.68\n",
      "validation loss: min = 7.57, mean = 7.62\n",
      "INFO:tensorflow:Restoring parameters from /Users/yiye/Desktop/velib Toulouse/tasks/cnn_graph/lib/../checkpoints/Velib_predictor_masking_H0_test/model-7\n",
      "21.085920992776625\n",
      "epoch 1 (learning_rate = 1.00e-03):\n",
      "  training_loss = 8.79e+00\n",
      "  validation r2: -0.58, loss: 7.58e+00\n",
      "  time: 3s (wall 3s)\n",
      "epoch 2 (learning_rate = 1.00e-03):\n",
      "  training_loss = 8.53e+00\n",
      "  validation r2: -0.59, loss: 7.53e+00\n",
      "  time: 6s (wall 4s)\n",
      "epoch 3 (learning_rate = 1.00e-03):\n",
      "  training_loss = 8.21e+00\n",
      "  validation r2: -0.59, loss: 7.47e+00\n",
      "  time: 8s (wall 6s)\n",
      "epoch 4 (learning_rate = 1.00e-03):\n",
      "  training_loss = 7.69e+00\n",
      "  validation r2: -0.61, loss: 7.42e+00\n",
      "  time: 11s (wall 7s)\n",
      "epoch 5 (learning_rate = 1.00e-03):\n",
      "  training_loss = 7.23e+00\n",
      "  validation r2: -0.64, loss: 7.42e+00\n",
      "  time: 13s (wall 9s)\n",
      "epoch 6 (learning_rate = 1.00e-03):\n",
      "  training_loss = 6.71e+00\n",
      "  validation r2: -0.71, loss: 7.51e+00\n",
      "  time: 16s (wall 11s)\n",
      " Training stopped for the validation loss has not decreased.\n",
      "validation score: peak = -0.58, mean = -0.63\n",
      "validation loss: min = 7.42, mean = 7.47\n",
      "INFO:tensorflow:Restoring parameters from /Users/yiye/Desktop/velib Toulouse/tasks/cnn_graph/lib/../checkpoints/Velib_predictor_masking_H0_test/model-6\n",
      "19.71751314027373\n",
      "epoch 1 (learning_rate = 1.00e-03):\n",
      "  training_loss = 8.84e+00\n",
      "  validation r2: -0.62, loss: 7.72e+00\n",
      "  time: 3s (wall 2s)\n",
      "epoch 2 (learning_rate = 1.00e-03):\n",
      "  training_loss = 8.52e+00\n",
      "  validation r2: -0.62, loss: 7.64e+00\n",
      "  time: 6s (wall 4s)\n",
      "epoch 3 (learning_rate = 1.00e-03):\n",
      "  training_loss = 8.22e+00\n",
      "  validation r2: -0.62, loss: 7.58e+00\n",
      "  time: 8s (wall 5s)\n",
      "epoch 4 (learning_rate = 1.00e-03):\n",
      "  training_loss = 7.87e+00\n",
      "  validation r2: -0.64, loss: 7.56e+00\n",
      "  time: 11s (wall 7s)\n",
      "epoch 5 (learning_rate = 1.00e-03):\n",
      "  training_loss = 7.41e+00\n",
      "  validation r2: -0.66, loss: 7.57e+00\n",
      "  time: 13s (wall 9s)\n",
      "epoch 6 (learning_rate = 1.00e-03):\n",
      "  training_loss = 6.85e+00\n",
      "  validation r2: -0.70, loss: 7.61e+00\n",
      "  time: 16s (wall 10s)\n",
      " Training stopped for the validation loss has not decreased.\n",
      "validation score: peak = -0.62, mean = -0.65\n",
      "validation loss: min = 7.56, mean = 7.59\n",
      "INFO:tensorflow:Restoring parameters from /Users/yiye/Desktop/velib Toulouse/tasks/cnn_graph/lib/../checkpoints/Velib_predictor_masking_H0_test/model-6\n",
      "21.48228051307875\n",
      "epoch 1 (learning_rate = 1.00e-03):\n",
      "  training_loss = 8.78e+00\n",
      "  validation r2: -0.58, loss: 7.64e+00\n",
      "  time: 3s (wall 2s)\n",
      "epoch 2 (learning_rate = 1.00e-03):\n",
      "  training_loss = 8.53e+00\n",
      "  validation r2: -0.57, loss: 7.56e+00\n",
      "  time: 6s (wall 4s)\n",
      "epoch 3 (learning_rate = 1.00e-03):\n",
      "  training_loss = 8.24e+00\n",
      "  validation r2: -0.57, loss: 7.48e+00\n",
      "  time: 8s (wall 5s)\n",
      "epoch 4 (learning_rate = 1.00e-03):\n",
      "  training_loss = 7.84e+00\n",
      "  validation r2: -0.58, loss: 7.42e+00\n",
      "  time: 11s (wall 7s)\n",
      "epoch 5 (learning_rate = 1.00e-03):\n",
      "  training_loss = 7.33e+00\n",
      "  validation r2: -0.59, loss: 7.38e+00\n",
      "  time: 13s (wall 8s)\n",
      "epoch 6 (learning_rate = 1.00e-03):\n",
      "  training_loss = 6.72e+00\n",
      "  validation r2: -0.63, loss: 7.41e+00\n",
      "  time: 16s (wall 10s)\n",
      "epoch 7 (learning_rate = 1.00e-03):\n",
      "  training_loss = 6.10e+00\n",
      "  validation r2: -0.72, loss: 7.58e+00\n",
      "  time: 18s (wall 12s)\n",
      " Training stopped for the validation loss has not decreased.\n",
      "validation score: peak = -0.57, mean = -0.62\n",
      "validation loss: min = 7.38, mean = 7.45\n",
      "INFO:tensorflow:Restoring parameters from /Users/yiye/Desktop/velib Toulouse/tasks/cnn_graph/lib/../checkpoints/Velib_predictor_masking_H0_test/model-7\n",
      "20.771237244009402\n",
      "epoch 1 (learning_rate = 1.00e-03):\n",
      "  training_loss = 8.68e+00\n",
      "  validation r2: -0.58, loss: 7.59e+00\n",
      "  time: 3s (wall 2s)\n",
      "epoch 2 (learning_rate = 1.00e-03):\n",
      "  training_loss = 8.39e+00\n",
      "  validation r2: -0.57, loss: 7.53e+00\n",
      "  time: 6s (wall 4s)\n",
      "epoch 3 (learning_rate = 1.00e-03):\n",
      "  training_loss = 8.02e+00\n",
      "  validation r2: -0.57, loss: 7.46e+00\n",
      "  time: 8s (wall 5s)\n",
      "epoch 4 (learning_rate = 1.00e-03):\n",
      "  training_loss = 7.67e+00\n",
      "  validation r2: -0.57, loss: 7.39e+00\n",
      "  time: 11s (wall 6s)\n",
      "epoch 5 (learning_rate = 1.00e-03):\n",
      "  training_loss = 7.12e+00\n",
      "  validation r2: -0.59, loss: 7.35e+00\n",
      "  time: 13s (wall 8s)\n",
      "epoch 6 (learning_rate = 1.00e-03):\n",
      "  training_loss = 6.60e+00\n",
      "  validation r2: -0.62, loss: 7.38e+00\n",
      "  time: 16s (wall 9s)\n",
      "epoch 7 (learning_rate = 1.00e-03):\n",
      "  training_loss = 5.94e+00\n",
      "  validation r2: -0.68, loss: 7.49e+00\n",
      "  time: 18s (wall 11s)\n",
      " Training stopped for the validation loss has not decreased.\n",
      "validation score: peak = -0.57, mean = -0.61\n",
      "validation loss: min = 7.35, mean = 7.42\n",
      "INFO:tensorflow:Restoring parameters from /Users/yiye/Desktop/velib Toulouse/tasks/cnn_graph/lib/../checkpoints/Velib_predictor_masking_H0_test/model-7\n",
      "20.623809683289984\n",
      "epoch 1 (learning_rate = 1.00e-03):\n",
      "  training_loss = 8.79e+00\n",
      "  validation r2: -0.61, loss: 7.67e+00\n",
      "  time: 3s (wall 2s)\n",
      "epoch 2 (learning_rate = 1.00e-03):\n",
      "  training_loss = 8.50e+00\n",
      "  validation r2: -0.61, loss: 7.64e+00\n",
      "  time: 6s (wall 4s)\n",
      "epoch 3 (learning_rate = 1.00e-03):\n",
      "  training_loss = 8.17e+00\n",
      "  validation r2: -0.63, loss: 7.67e+00\n",
      "  time: 9s (wall 6s)\n",
      "epoch 4 (learning_rate = 1.00e-03):\n",
      "  training_loss = 7.80e+00\n",
      "  validation r2: -0.67, loss: 7.74e+00\n",
      "  time: 11s (wall 7s)\n",
      " Training stopped for the validation loss has not decreased.\n",
      "validation score: peak = -0.61, mean = -0.63\n",
      "validation loss: min = 7.64, mean = 7.68\n",
      "INFO:tensorflow:Restoring parameters from /Users/yiye/Desktop/velib Toulouse/tasks/cnn_graph/lib/../checkpoints/Velib_predictor_masking_H0_test/model-4\n",
      "21.2016989804096\n",
      "epoch 1 (learning_rate = 1.00e-03):\n",
      "  training_loss = 8.75e+00\n",
      "  validation r2: -0.62, loss: 7.72e+00\n",
      "  time: 4s (wall 3s)\n",
      "epoch 2 (learning_rate = 1.00e-03):\n",
      "  training_loss = 8.58e+00\n",
      "  validation r2: -0.62, loss: 7.70e+00\n",
      "  time: 6s (wall 4s)\n",
      "epoch 3 (learning_rate = 1.00e-03):\n",
      "  training_loss = 8.14e+00\n",
      "  validation r2: -0.63, loss: 7.71e+00\n",
      "  time: 9s (wall 6s)\n",
      "epoch 4 (learning_rate = 1.00e-03):\n",
      "  training_loss = 7.75e+00\n",
      "  validation r2: -0.66, loss: 7.76e+00\n",
      "  time: 12s (wall 8s)\n",
      " Training stopped for the validation loss has not decreased.\n",
      "validation score: peak = -0.62, mean = -0.63\n",
      "validation loss: min = 7.70, mean = 7.72\n",
      "INFO:tensorflow:Restoring parameters from /Users/yiye/Desktop/velib Toulouse/tasks/cnn_graph/lib/../checkpoints/Velib_predictor_masking_H0_test/model-4\n",
      "20.18065131684613\n",
      "epoch 1 (learning_rate = 1.00e-03):\n",
      "  training_loss = 8.73e+00\n",
      "  validation r2: -0.59, loss: 7.63e+00\n",
      "  time: 3s (wall 2s)\n",
      "epoch 2 (learning_rate = 1.00e-03):\n",
      "  training_loss = 8.44e+00\n",
      "  validation r2: -0.59, loss: 7.59e+00\n",
      "  time: 6s (wall 4s)\n",
      "epoch 3 (learning_rate = 1.00e-03):\n",
      "  training_loss = 8.12e+00\n",
      "  validation r2: -0.59, loss: 7.57e+00\n",
      "  time: 9s (wall 6s)\n",
      "epoch 4 (learning_rate = 1.00e-03):\n",
      "  training_loss = 7.88e+00\n",
      "  validation r2: -0.61, loss: 7.57e+00\n",
      "  time: 11s (wall 7s)\n",
      "epoch 5 (learning_rate = 1.00e-03):\n",
      "  training_loss = 7.30e+00\n",
      "  validation r2: -0.64, loss: 7.60e+00\n",
      "  time: 14s (wall 9s)\n",
      " Training stopped for the validation loss has not decreased.\n",
      "validation score: peak = -0.59, mean = -0.60\n",
      "validation loss: min = 7.57, mean = 7.59\n",
      "INFO:tensorflow:Restoring parameters from /Users/yiye/Desktop/velib Toulouse/tasks/cnn_graph/lib/../checkpoints/Velib_predictor_masking_H0_test/model-5\n"
     ]
    },
    {
     "name": "stdout",
     "output_type": "stream",
     "text": [
      "21.164656953203856\n",
      "epoch 1 (learning_rate = 1.00e-03):\n",
      "  training_loss = 8.75e+00\n",
      "  validation r2: -0.59, loss: 7.68e+00\n",
      "  time: 4s (wall 3s)\n",
      "epoch 2 (learning_rate = 1.00e-03):\n",
      "  training_loss = 8.54e+00\n",
      "  validation r2: -0.57, loss: 7.55e+00\n",
      "  time: 6s (wall 5s)\n",
      "epoch 3 (learning_rate = 1.00e-03):\n",
      "  training_loss = 8.24e+00\n",
      "  validation r2: -0.55, loss: 7.43e+00\n",
      "  time: 9s (wall 7s)\n",
      "epoch 4 (learning_rate = 1.00e-03):\n",
      "  training_loss = 7.82e+00\n",
      "  validation r2: -0.53, loss: 7.32e+00\n",
      "  time: 12s (wall 8s)\n",
      "epoch 5 (learning_rate = 1.00e-03):\n",
      "  training_loss = 7.29e+00\n",
      "  validation r2: -0.52, loss: 7.20e+00\n",
      "  time: 14s (wall 10s)\n",
      "epoch 6 (learning_rate = 1.00e-03):\n",
      "  training_loss = 6.77e+00\n",
      "  validation r2: -0.52, loss: 7.11e+00\n",
      "  time: 17s (wall 12s)\n",
      "epoch 7 (learning_rate = 1.00e-03):\n",
      "  training_loss = 6.15e+00\n",
      "  validation r2: -0.54, loss: 7.07e+00\n",
      "  time: 20s (wall 13s)\n",
      "epoch 8 (learning_rate = 1.00e-03):\n",
      "  training_loss = 5.54e+00\n",
      "  validation r2: -0.60, loss: 7.15e+00\n",
      "  time: 22s (wall 15s)\n",
      "epoch 9 (learning_rate = 1.00e-03):\n",
      "  training_loss = 5.07e+00\n",
      "  validation r2: -0.72, loss: 7.41e+00\n",
      "  time: 25s (wall 17s)\n",
      " Training stopped for the validation loss has not decreased.\n",
      "validation score: peak = -0.52, mean = -0.58\n",
      "validation loss: min = 7.07, mean = 7.19\n",
      "INFO:tensorflow:Restoring parameters from /Users/yiye/Desktop/velib Toulouse/tasks/cnn_graph/lib/../checkpoints/Velib_predictor_masking_H0_test/model-9\n",
      "21.11654485277043\n",
      "epoch 1 (learning_rate = 1.00e-03):\n",
      "  training_loss = 8.77e+00\n",
      "  validation r2: -0.62, loss: 7.78e+00\n",
      "  time: 3s (wall 2s)\n",
      "epoch 2 (learning_rate = 1.00e-03):\n",
      "  training_loss = 8.50e+00\n",
      "  validation r2: -0.62, loss: 7.72e+00\n",
      "  time: 6s (wall 4s)\n",
      "epoch 3 (learning_rate = 1.00e-03):\n",
      "  training_loss = 8.23e+00\n",
      "  validation r2: -0.62, loss: 7.70e+00\n",
      "  time: 9s (wall 6s)\n",
      "epoch 4 (learning_rate = 1.00e-03):\n",
      "  training_loss = 7.92e+00\n",
      "  validation r2: -0.63, loss: 7.70e+00\n",
      "  time: 11s (wall 8s)\n",
      "epoch 5 (learning_rate = 1.00e-03):\n",
      "  training_loss = 7.44e+00\n",
      "  validation r2: -0.66, loss: 7.72e+00\n",
      "  time: 14s (wall 9s)\n",
      " Training stopped for the validation loss has not decreased.\n",
      "validation score: peak = -0.62, mean = -0.63\n",
      "validation loss: min = 7.70, mean = 7.72\n",
      "INFO:tensorflow:Restoring parameters from /Users/yiye/Desktop/velib Toulouse/tasks/cnn_graph/lib/../checkpoints/Velib_predictor_masking_H0_test/model-5\n",
      "19.85521948449016\n"
     ]
    }
   ],
   "source": [
    "err_mse0 = np.zeros(10)\n",
    "for x in range(10):\n",
    "    _, _, _, _ = model.fit(train_data = X_train_H, train_targets = Y_train, val_data = X_val_H, val_targets = Y_val)\n",
    "    _,Y_pred,_,_ = model.evaluate(X_test_H, Y_test)\n",
    "    # The reconstruction error on test set\n",
    "    err_mse0[x] = norm(Y_test - Y_pred)**2/Y_pred.shape[0]\n",
    "    print(err_mse0[x])"
   ]
  },
  {
   "cell_type": "code",
   "execution_count": 24,
   "metadata": {},
   "outputs": [
    {
     "data": {
      "text/plain": [
       "20.719953316114868"
      ]
     },
     "execution_count": 24,
     "metadata": {},
     "output_type": "execute_result"
    }
   ],
   "source": [
    "err_mse0.mean()"
   ]
  }
 ],
 "metadata": {
  "kernelspec": {
   "display_name": "Python 3",
   "language": "python",
   "name": "python3"
  },
  "language_info": {
   "codemirror_mode": {
    "name": "ipython",
    "version": 3
   },
   "file_extension": ".py",
   "mimetype": "text/x-python",
   "name": "python",
   "nbconvert_exporter": "python",
   "pygments_lexer": "ipython3",
   "version": "3.6.8"
  }
 },
 "nbformat": 4,
 "nbformat_minor": 2
}
